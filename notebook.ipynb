{
 "cells": [
  {
   "metadata": {
    "ExecuteTime": {
     "end_time": "2025-01-12T16:35:31.392767Z",
     "start_time": "2025-01-12T16:35:29.815539Z"
    }
   },
   "cell_type": "code",
   "source": [
    "import pandas as pd\n",
    "import numpy as np\n",
    "import matplotlib.pyplot as plt\n",
    "from data_preprocessor import DataPreprocessor\n",
    "from tools import *"
   ],
   "id": "34bf5faa28f2e55f",
   "outputs": [],
   "execution_count": 1
  },
  {
   "metadata": {},
   "cell_type": "markdown",
   "source": "## I. Data Import",
   "id": "21f8ead102c7e027"
  },
  {
   "metadata": {
    "ExecuteTime": {
     "end_time": "2025-01-12T16:35:44.411350Z",
     "start_time": "2025-01-12T16:35:31.404860Z"
    }
   },
   "cell_type": "code",
   "source": [
    "# Import and process the data\n",
    "dpp = DataPreprocessor('data')\n",
    "dict_data = dpp.process_csv_files()"
   ],
   "id": "76671d126433a46f",
   "outputs": [
    {
     "name": "stderr",
     "output_type": "stream",
     "text": [
      "Processing CSV files: 100%|██████████| 9/9 [00:12<00:00,  1.44s/it]\n"
     ]
    }
   ],
   "execution_count": 2
  },
  {
   "metadata": {
    "ExecuteTime": {
     "end_time": "2025-01-12T16:35:44.692855Z",
     "start_time": "2025-01-12T16:35:44.687010Z"
    }
   },
   "cell_type": "code",
   "source": [
    "index_names = list(dict_data.keys())\n",
    "stock_names = {index: list(dict_data[index]['stocks'].keys()) for index in index_names}\n",
    "dates = {index: dict_data[index]['dates'] for index in index_names}"
   ],
   "id": "5499d0c3f7bb25c",
   "outputs": [],
   "execution_count": 3
  },
  {
   "metadata": {
    "ExecuteTime": {
     "end_time": "2025-01-12T16:21:37.733555Z",
     "start_time": "2025-01-12T16:21:34.924787Z"
    }
   },
   "cell_type": "code",
   "source": [
    "#sp500_data = dict_data[index_names[-2]]\n",
    "sp500_data = dict_data[index_names[0]]\n",
    "\n",
    "a = SentimentIndex(sp500_data)\n",
    "\n",
    "b = a.sentiment_index"
   ],
   "id": "1fa77bd82bbc0370",
   "outputs": [
    {
     "name": "stderr",
     "output_type": "stream",
     "text": [
      "\n",
      "KeyboardInterrupt\n",
      "\n"
     ]
    }
   ],
   "execution_count": 4
  },
  {
   "metadata": {
    "jupyter": {
     "is_executing": true
    },
    "ExecuteTime": {
     "start_time": "2025-01-12T16:35:45.032544Z"
    }
   },
   "cell_type": "code",
   "source": [
    "sp500_data = dict_data[index_names[0]]\n",
    "\n",
    "model = Modelling(sp500_data)\n",
    "a = model.beta_MLE()\n",
    "a"
   ],
   "id": "fc345687c06f0466",
   "outputs": [
    {
     "name": "stderr",
     "output_type": "stream",
     "text": [
      "/Users/merakeb/Desktop/M2 272/Gestion Quant/ABM-Early-Warning-Indicator/tools.py:209: OptimizeWarning: Unknown solver options: xtol\n",
      "  beta_MLE = minimize(self.beta_log_likelihood, params_init, args=(sentiment_index,),\n"
     ]
    }
   ],
   "execution_count": null
  },
  {
   "metadata": {},
   "cell_type": "code",
   "outputs": [],
   "execution_count": null,
   "source": "",
   "id": "f03b3a5e4fab004f"
  }
 ],
 "metadata": {
  "kernelspec": {
   "name": "python3",
   "language": "python",
   "display_name": "Python 3 (ipykernel)"
  }
 },
 "nbformat": 5,
 "nbformat_minor": 9
}
