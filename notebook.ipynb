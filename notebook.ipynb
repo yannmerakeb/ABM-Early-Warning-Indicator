{
 "cells": [
  {
   "metadata": {
    "ExecuteTime": {
     "end_time": "2025-01-14T18:50:29.210360Z",
     "start_time": "2025-01-14T18:50:26.502986Z"
    }
   },
   "cell_type": "code",
   "source": [
    "import pandas as pd\n",
    "import numpy as np\n",
    "import matplotlib.pyplot as plt\n",
    "from data_preprocessor import DataPreprocessor\n",
    "from tools import *"
   ],
   "id": "34bf5faa28f2e55f",
   "outputs": [],
   "execution_count": 1
  },
  {
   "metadata": {},
   "cell_type": "markdown",
   "source": "## I. Data Import",
   "id": "21f8ead102c7e027"
  },
  {
   "metadata": {
    "ExecuteTime": {
     "end_time": "2025-01-14T18:50:33.792910Z",
     "start_time": "2025-01-14T18:50:29.476261Z"
    }
   },
   "cell_type": "code",
   "source": [
    "# Import and process the data\n",
    "dpp = DataPreprocessor('data')\n",
    "dict_data = dpp.process_csv_files()"
   ],
   "id": "76671d126433a46f",
   "outputs": [
    {
     "name": "stderr",
     "output_type": "stream",
     "text": [
      "Processing CSV files: 100%|██████████| 9/9 [00:04<00:00,  2.11it/s]\n"
     ]
    }
   ],
   "execution_count": 2
  },
  {
   "metadata": {
    "ExecuteTime": {
     "end_time": "2025-01-14T18:50:37.966334Z",
     "start_time": "2025-01-14T18:50:37.960605Z"
    }
   },
   "cell_type": "code",
   "source": [
    "index_names = list(dict_data.keys())\n",
    "stock_names = {index: list(dict_data[index]['stocks'].keys()) for index in index_names}\n",
    "dates = {index: dict_data[index]['dates'] for index in index_names}"
   ],
   "id": "5499d0c3f7bb25c",
   "outputs": [],
   "execution_count": 3
  },
  {
   "metadata": {
    "jupyter": {
     "is_executing": true
    },
    "ExecuteTime": {
     "start_time": "2025-01-14T18:50:41.608080Z"
    }
   },
   "cell_type": "code",
   "source": [
    "sp500_data = dict_data[index_names[0]]\n",
    "\n",
    "# Assuming you have sentiment_index data and have fitted the parameters using MLE\n",
    "'''sentiment_index_obj = SentimentIndex(sp500_data)\n",
    "ac_func = sentiment_index_obj.autocorrelation()'''\n",
    "\n",
    "\n",
    "mc = MonteCarlo(sp500_data)\n",
    "mc.simulation(num_simulations=500, num_days=len(sp500_data['dates']))\n",
    "\n",
    "\n",
    "'''sentiment_index = sentiment_index_obj.sentiment_index.iloc[:, 1].to_numpy()\n",
    "likelihood_model = Likelihood(sp500_data)\n",
    "# beta_params = likelihood_model.MLE('beta')\n",
    "normal_params = likelihood_model.MLE('normal', 0.95)'''\n",
    "\n",
    "\n",
    "# a = Likelihood(sp500_data).chi_square_test(distribution='beta', bins=10)(beta_params[0], beta_params[1])\n",
    "# a"
   ],
   "id": "589c69ff14b2467f",
   "outputs": [
    {
     "name": "stderr",
     "output_type": "stream",
     "text": [
      "/Users/merakeb/Desktop/M2 272/Gestion Quant/ABM-Early-Warning-Indicator/tools.py:341: OptimizeWarning: Unknown solver options: xtol\n",
      "  MLE = minimize(self.neg_normal_log_likelihood, params_init, args=(sentiment_index,),\n"
     ]
    }
   ],
   "execution_count": null
  },
  {
   "metadata": {},
   "cell_type": "code",
   "outputs": [],
   "execution_count": null,
   "source": "",
   "id": "3e87cec75e73b131"
  }
 ],
 "metadata": {
  "kernelspec": {
   "name": "python3",
   "language": "python",
   "display_name": "Python 3 (ipykernel)"
  }
 },
 "nbformat": 5,
 "nbformat_minor": 9
}
