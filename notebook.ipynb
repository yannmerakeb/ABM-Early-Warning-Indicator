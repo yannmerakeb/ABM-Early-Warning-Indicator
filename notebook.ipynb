{
 "cells": [
  {
   "metadata": {
    "ExecuteTime": {
     "end_time": "2025-01-14T15:58:59.038107Z",
     "start_time": "2025-01-14T15:58:57.085436Z"
    }
   },
   "cell_type": "code",
   "source": [
    "import pandas as pd\n",
    "import numpy as np\n",
    "import matplotlib.pyplot as plt\n",
    "from data_preprocessor import DataPreprocessor\n",
    "from tools import *"
   ],
   "id": "34bf5faa28f2e55f",
   "outputs": [],
   "execution_count": 1
  },
  {
   "metadata": {},
   "cell_type": "markdown",
   "source": "## I. Data Import",
   "id": "21f8ead102c7e027"
  },
  {
   "metadata": {
    "ExecuteTime": {
     "end_time": "2025-01-14T15:59:14.493020Z",
     "start_time": "2025-01-14T15:59:09.804179Z"
    }
   },
   "cell_type": "code",
   "source": [
    "# Import and process the data\n",
    "dpp = DataPreprocessor('data')\n",
    "dict_data = dpp.process_csv_files()"
   ],
   "id": "76671d126433a46f",
   "outputs": [
    {
     "name": "stderr",
     "output_type": "stream",
     "text": [
      "Processing CSV files: 100%|██████████| 9/9 [00:04<00:00,  1.94it/s]\n"
     ]
    }
   ],
   "execution_count": 2
  },
  {
   "metadata": {
    "ExecuteTime": {
     "end_time": "2025-01-14T15:59:16.091186Z",
     "start_time": "2025-01-14T15:59:16.084538Z"
    }
   },
   "cell_type": "code",
   "source": [
    "index_names = list(dict_data.keys())\n",
    "stock_names = {index: list(dict_data[index]['stocks'].keys()) for index in index_names}\n",
    "dates = {index: dict_data[index]['dates'] for index in index_names}"
   ],
   "id": "5499d0c3f7bb25c",
   "outputs": [],
   "execution_count": 3
  },
  {
   "metadata": {
    "ExecuteTime": {
     "end_time": "2025-01-14T16:02:30.869413Z",
     "start_time": "2025-01-14T16:01:35.387651Z"
    }
   },
   "cell_type": "code",
   "source": [
    "sp500_data = dict_data[index_names[0]]\n",
    "\n",
    "# Assuming you have sentiment_index data and have fitted the parameters using MLE\n",
    "'''sentiment_index_obj = SentimentIndex(sp500_data)\n",
    "ac_func = sentiment_index_obj.autocorrelation()'''\n",
    "\n",
    "\n",
    "mc = MonteCarlo(sp500_data)\n",
    "mc.simulation(num_simulations=500, num_days=len(sp500_data))\n",
    "\n",
    "\n",
    "'''sentiment_index = sentiment_index_obj.sentiment_index.iloc[:, 1].to_numpy()\n",
    "likelihood_model = Likelihood(sp500_data)\n",
    "# beta_params = likelihood_model.MLE('beta')\n",
    "normal_params = likelihood_model.MLE('normal', 0.95)'''\n",
    "\n",
    "\n",
    "# a = Likelihood(sp500_data).chi_square_test(distribution='beta', bins=10)(beta_params[0], beta_params[1])\n",
    "# a"
   ],
   "id": "589c69ff14b2467f",
   "outputs": [
    {
     "name": "stderr",
     "output_type": "stream",
     "text": [
      "/Users/merakeb/Desktop/M2 272/Gestion Quant/ABM-Early-Warning-Indicator/tools.py:341: OptimizeWarning: Unknown solver options: xtol\n",
      "  MLE = minimize(self.neg_normal_log_likelihood, params_init, args=(sentiment_index,),\n"
     ]
    },
    {
     "ename": "KeyboardInterrupt",
     "evalue": "",
     "output_type": "error",
     "traceback": [
      "\u001B[0;31m---------------------------------------------------------------------------\u001B[0m",
      "\u001B[0;31mKeyboardInterrupt\u001B[0m                         Traceback (most recent call last)",
      "Cell \u001B[0;32mIn[7], line 9\u001B[0m\n\u001B[1;32m      4\u001B[0m \u001B[38;5;124;03m'''sentiment_index_obj = SentimentIndex(sp500_data)\u001B[39;00m\n\u001B[1;32m      5\u001B[0m \u001B[38;5;124;03mac_func = sentiment_index_obj.autocorrelation()'''\u001B[39;00m\n\u001B[1;32m      8\u001B[0m mc \u001B[38;5;241m=\u001B[39m MonteCarlo(sp500_data)\n\u001B[0;32m----> 9\u001B[0m \u001B[43mmc\u001B[49m\u001B[38;5;241;43m.\u001B[39;49m\u001B[43msimulation\u001B[49m\u001B[43m(\u001B[49m\u001B[43mnum_simulations\u001B[49m\u001B[38;5;241;43m=\u001B[39;49m\u001B[38;5;241;43m500\u001B[39;49m\u001B[43m,\u001B[49m\u001B[43m \u001B[49m\u001B[43mnum_days\u001B[49m\u001B[38;5;241;43m=\u001B[39;49m\u001B[38;5;28;43mlen\u001B[39;49m\u001B[43m(\u001B[49m\u001B[43msp500_data\u001B[49m\u001B[43m)\u001B[49m\u001B[43m)\u001B[49m\n\u001B[1;32m     12\u001B[0m \u001B[38;5;124;03m'''sentiment_index = sentiment_index_obj.sentiment_index.iloc[:, 1].to_numpy()\u001B[39;00m\n\u001B[1;32m     13\u001B[0m \u001B[38;5;124;03mlikelihood_model = Likelihood(sp500_data)\u001B[39;00m\n\u001B[1;32m     14\u001B[0m \u001B[38;5;124;03m# beta_params = likelihood_model.MLE('beta')\u001B[39;00m\n\u001B[1;32m     15\u001B[0m \u001B[38;5;124;03mnormal_params = likelihood_model.MLE('normal', 0.95)'''\u001B[39;00m\n\u001B[1;32m     18\u001B[0m \u001B[38;5;66;03m# a = Likelihood(sp500_data).chi_square_test(distribution='beta', bins=10)(beta_params[0], beta_params[1])\u001B[39;00m\n\u001B[1;32m     19\u001B[0m \u001B[38;5;66;03m# a\u001B[39;00m\n",
      "File \u001B[0;32m~/Desktop/M2 272/Gestion Quant/ABM-Early-Warning-Indicator/tools.py:374\u001B[0m, in \u001B[0;36mMonteCarlo.simulation\u001B[0;34m(self, num_simulations, num_days)\u001B[0m\n\u001B[1;32m    372\u001B[0m \u001B[38;5;28;01mfor\u001B[39;00m simul \u001B[38;5;129;01min\u001B[39;00m \u001B[38;5;28mrange\u001B[39m(num_simulations):\n\u001B[1;32m    373\u001B[0m     \u001B[38;5;28;01mfor\u001B[39;00m day \u001B[38;5;129;01min\u001B[39;00m \u001B[38;5;28mrange\u001B[39m(\u001B[38;5;241m1\u001B[39m, num_days):\n\u001B[0;32m--> 374\u001B[0m         simulated_sentiment_index[day, simul] \u001B[38;5;241m=\u001B[39m \u001B[38;5;28mself\u001B[39m\u001B[38;5;241m.\u001B[39m_individual_simulation(simulated_sentiment_index[day \u001B[38;5;241m-\u001B[39m \u001B[38;5;241m1\u001B[39m, simul], e1, e2, b)\n\u001B[1;32m    376\u001B[0m \u001B[38;5;28;01mreturn\u001B[39;00m simulated_sentiment_index\n",
      "File \u001B[0;32m~/Desktop/M2 272/Gestion Quant/ABM-Early-Warning-Indicator/tools.py:376\u001B[0m, in \u001B[0;36m_individual_simulation\u001B[0;34m(self, z_t, e1, e2, b)\u001B[0m\n\u001B[1;32m    373\u001B[0m     \u001B[38;5;28;01mfor\u001B[39;00m day \u001B[38;5;129;01min\u001B[39;00m \u001B[38;5;28mrange\u001B[39m(\u001B[38;5;241m1\u001B[39m, num_days):\n\u001B[1;32m    374\u001B[0m         simulated_sentiment_index[day, simul] \u001B[38;5;241m=\u001B[39m \u001B[38;5;28mself\u001B[39m\u001B[38;5;241m.\u001B[39m_individual_simulation(simulated_sentiment_index[day \u001B[38;5;241m-\u001B[39m \u001B[38;5;241m1\u001B[39m, simul], e1, e2, b)\n\u001B[0;32m--> 376\u001B[0m \u001B[38;5;28;01mreturn\u001B[39;00m simulated_sentiment_index\n",
      "\u001B[0;31mKeyboardInterrupt\u001B[0m: "
     ]
    }
   ],
   "execution_count": 7
  }
 ],
 "metadata": {
  "kernelspec": {
   "name": "python3",
   "language": "python",
   "display_name": "Python 3 (ipykernel)"
  }
 },
 "nbformat": 5,
 "nbformat_minor": 9
}
