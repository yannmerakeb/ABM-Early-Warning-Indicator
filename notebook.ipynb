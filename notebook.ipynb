{
 "cells": [
  {
   "metadata": {
    "ExecuteTime": {
     "end_time": "2025-01-09T18:44:14.105908Z",
     "start_time": "2025-01-09T18:44:12.548450Z"
    }
   },
   "cell_type": "code",
   "source": [
    "import pandas as pd\n",
    "import numpy as np\n",
    "import matplotlib.pyplot as plt\n",
    "from data_preprocessor import DataPreprocessor\n",
    "from tools import *"
   ],
   "id": "34bf5faa28f2e55f",
   "outputs": [],
   "execution_count": 1
  },
  {
   "metadata": {},
   "cell_type": "markdown",
   "source": "## I. Data Import",
   "id": "21f8ead102c7e027"
  },
  {
   "metadata": {
    "ExecuteTime": {
     "end_time": "2025-01-09T18:44:26.819081Z",
     "start_time": "2025-01-09T18:44:15.527644Z"
    }
   },
   "cell_type": "code",
   "source": [
    "# Import and process the data\n",
    "dpp = DataPreprocessor('data')\n",
    "dict_data = dpp.process_csv_files()"
   ],
   "id": "76671d126433a46f",
   "outputs": [
    {
     "name": "stderr",
     "output_type": "stream",
     "text": [
      "Processing CSV files: 100%|██████████| 9/9 [00:11<00:00,  1.25s/it]\n"
     ]
    }
   ],
   "execution_count": 2
  },
  {
   "metadata": {
    "ExecuteTime": {
     "end_time": "2025-01-09T18:44:35.776088Z",
     "start_time": "2025-01-09T18:44:35.763839Z"
    }
   },
   "cell_type": "code",
   "source": [
    "index_names = list(dict_data.keys())\n",
    "stock_names = {index: list(dict_data[index]['stocks'].keys()) for index in index_names}"
   ],
   "id": "5499d0c3f7bb25c",
   "outputs": [],
   "execution_count": 3
  },
  {
   "metadata": {
    "ExecuteTime": {
     "end_time": "2025-01-09T18:44:41.659430Z",
     "start_time": "2025-01-09T18:44:41.194907Z"
    }
   },
   "cell_type": "code",
   "source": [
    "#sp500_data = dict_data[index_names[-2]]\n",
    "sp500_data = dict_data[index_names[0]]\n",
    "\n",
    "sp500 = Return(sp500_data)\n",
    "sp500_detrended_stock_returns = sp500.detrended_returns\n",
    "\n",
    "sp500_detrended_stock_returns"
   ],
   "id": "8976239a9b4af125",
   "outputs": [
    {
     "ename": "AttributeError",
     "evalue": "'numpy.ndarray' object has no attribute 'columns'",
     "output_type": "error",
     "traceback": [
      "\u001B[0;31m---------------------------------------------------------------------------\u001B[0m",
      "\u001B[0;31mAttributeError\u001B[0m                            Traceback (most recent call last)",
      "Cell \u001B[0;32mIn[4], line 4\u001B[0m\n\u001B[1;32m      1\u001B[0m \u001B[38;5;66;03m#sp500_data = dict_data[index_names[-2]]\u001B[39;00m\n\u001B[1;32m      2\u001B[0m sp500_data \u001B[38;5;241m=\u001B[39m dict_data[index_names[\u001B[38;5;241m0\u001B[39m]]\n\u001B[0;32m----> 4\u001B[0m sp500 \u001B[38;5;241m=\u001B[39m \u001B[43mReturn\u001B[49m\u001B[43m(\u001B[49m\u001B[43msp500_data\u001B[49m\u001B[43m)\u001B[49m\n\u001B[1;32m      5\u001B[0m sp500_detrended_stock_returns \u001B[38;5;241m=\u001B[39m sp500\u001B[38;5;241m.\u001B[39mdetrended_returns\n\u001B[1;32m      7\u001B[0m sp500_detrended_stock_returns\n",
      "File \u001B[0;32m~/Desktop/M2 272/Gestion Quant/ABM-Early-Warning-Indicator/tools.py:12\u001B[0m, in \u001B[0;36mData.__init__\u001B[0;34m(self, dict_data)\u001B[0m\n\u001B[1;32m      9\u001B[0m \u001B[38;5;28mself\u001B[39m\u001B[38;5;241m.\u001B[39mstocks \u001B[38;5;241m=\u001B[39m dict_data[\u001B[38;5;124m'\u001B[39m\u001B[38;5;124mstocks\u001B[39m\u001B[38;5;124m'\u001B[39m]\n\u001B[1;32m     11\u001B[0m \u001B[38;5;66;03m# Get the names of the indexes and stocks\u001B[39;00m\n\u001B[0;32m---> 12\u001B[0m \u001B[38;5;28mself\u001B[39m\u001B[38;5;241m.\u001B[39mindex_name \u001B[38;5;241m=\u001B[39m \u001B[38;5;28;43mself\u001B[39;49m\u001B[38;5;241;43m.\u001B[39;49m\u001B[43mindex\u001B[49m\u001B[38;5;241;43m.\u001B[39;49m\u001B[43mcolumns\u001B[49m[\u001B[38;5;241m1\u001B[39m]\n\u001B[1;32m     13\u001B[0m \u001B[38;5;28mself\u001B[39m\u001B[38;5;241m.\u001B[39mstock_names \u001B[38;5;241m=\u001B[39m \u001B[38;5;28mlist\u001B[39m(\u001B[38;5;28mself\u001B[39m\u001B[38;5;241m.\u001B[39mstocks\u001B[38;5;241m.\u001B[39mkeys())\n",
      "\u001B[0;31mAttributeError\u001B[0m: 'numpy.ndarray' object has no attribute 'columns'"
     ]
    }
   ],
   "execution_count": 4
  },
  {
   "metadata": {
    "ExecuteTime": {
     "end_time": "2025-01-09T18:32:54.584271Z",
     "start_time": "2025-01-09T18:32:28.793750Z"
    }
   },
   "cell_type": "code",
   "source": [
    "#sp500_data = dict_data[index_names[-2]]\n",
    "sp500_data = dict_data[index_names[0]]\n",
    "\n",
    "a = SentimentIndex(sp500_data)\n",
    "b = a.EMA()"
   ],
   "id": "1fa77bd82bbc0370",
   "outputs": [
    {
     "ename": "AttributeError",
     "evalue": "'numpy.ndarray' object has no attribute 'iloc'",
     "output_type": "error",
     "traceback": [
      "\u001B[0;31m---------------------------------------------------------------------------\u001B[0m",
      "\u001B[0;31mAttributeError\u001B[0m                            Traceback (most recent call last)",
      "Cell \u001B[0;32mIn[4], line 5\u001B[0m\n\u001B[1;32m      2\u001B[0m sp500_data \u001B[38;5;241m=\u001B[39m dict_data[index_names[\u001B[38;5;241m0\u001B[39m]]\n\u001B[1;32m      4\u001B[0m a \u001B[38;5;241m=\u001B[39m SentimentIndex(sp500_data)\n\u001B[0;32m----> 5\u001B[0m b \u001B[38;5;241m=\u001B[39m \u001B[43ma\u001B[49m\u001B[38;5;241;43m.\u001B[39;49m\u001B[43mEMA\u001B[49m()\n",
      "File \u001B[0;32m~/Desktop/M2 272/Gestion Quant/ABM-Early-Warning-Indicator/tools.py:129\u001B[0m, in \u001B[0;36mSentimentIndex.EMA\u001B[0;34m(self)\u001B[0m\n\u001B[1;32m    125\u001B[0m \u001B[38;5;28;01mfor\u001B[39;00m stock \u001B[38;5;129;01min\u001B[39;00m \u001B[38;5;28mself\u001B[39m\u001B[38;5;241m.\u001B[39mstock_names:\n\u001B[1;32m    126\u001B[0m     \u001B[38;5;28;01mfor\u001B[39;00m row \u001B[38;5;129;01min\u001B[39;00m \u001B[38;5;28mrange\u001B[39m(\u001B[38;5;28mself\u001B[39m\u001B[38;5;241m.\u001B[39mL \u001B[38;5;241m+\u001B[39m \u001B[38;5;241m1\u001B[39m, \u001B[38;5;28mlen\u001B[39m(\u001B[38;5;28mself\u001B[39m\u001B[38;5;241m.\u001B[39mstocks[stock])):\n\u001B[1;32m    127\u001B[0m         \u001B[38;5;66;03m#self.EMA_dict[stock].iloc[row, 1] = self.W * self.stocks[stock].iloc[row,1] + (1 - self.W) * self.EMA_dict[stock].iloc[row-1,1]\u001B[39;00m\n\u001B[0;32m--> 129\u001B[0m         ema \u001B[38;5;241m=\u001B[39m \u001B[38;5;28mself\u001B[39m\u001B[38;5;241m.\u001B[39mW \u001B[38;5;241m*\u001B[39m \u001B[38;5;28mself\u001B[39m\u001B[38;5;241m.\u001B[39mstocks[stock]\u001B[38;5;241m.\u001B[39miloc[row,\u001B[38;5;241m1\u001B[39m] \u001B[38;5;241m+\u001B[39m (\u001B[38;5;241m1\u001B[39m \u001B[38;5;241m-\u001B[39m \u001B[38;5;28mself\u001B[39m\u001B[38;5;241m.\u001B[39mW) \u001B[38;5;241m*\u001B[39m \u001B[38;5;28;43mself\u001B[39;49m\u001B[38;5;241;43m.\u001B[39;49m\u001B[43mEMA_dict\u001B[49m\u001B[43m[\u001B[49m\u001B[43mstock\u001B[49m\u001B[43m]\u001B[49m\u001B[38;5;241;43m.\u001B[39;49m\u001B[43miloc\u001B[49m[row\u001B[38;5;241m-\u001B[39m\u001B[38;5;241m1\u001B[39m,\u001B[38;5;241m1\u001B[39m]\n\u001B[1;32m    130\u001B[0m         \u001B[38;5;28mself\u001B[39m\u001B[38;5;241m.\u001B[39mEMA_dict[stock] \u001B[38;5;241m=\u001B[39m np\u001B[38;5;241m.\u001B[39mappend(\u001B[38;5;28mself\u001B[39m\u001B[38;5;241m.\u001B[39mEMA_dict[stock], [ema], axis\u001B[38;5;241m=\u001B[39m\u001B[38;5;241m0\u001B[39m)\n\u001B[1;32m    132\u001B[0m \u001B[38;5;28;01mreturn\u001B[39;00m \u001B[38;5;28mself\u001B[39m\u001B[38;5;241m.\u001B[39mEMA_dict\n",
      "\u001B[0;31mAttributeError\u001B[0m: 'numpy.ndarray' object has no attribute 'iloc'"
     ]
    }
   ],
   "execution_count": 4
  }
 ],
 "metadata": {
  "kernelspec": {
   "name": "python3",
   "language": "python",
   "display_name": "Python 3 (ipykernel)"
  }
 },
 "nbformat": 5,
 "nbformat_minor": 9
}
