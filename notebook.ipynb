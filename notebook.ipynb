{
 "cells": [
  {
   "metadata": {
    "ExecuteTime": {
     "end_time": "2025-01-09T12:11:42.188296Z",
     "start_time": "2025-01-09T12:11:40.571221Z"
    }
   },
   "cell_type": "code",
   "source": [
    "import pandas as pd\n",
    "import numpy as np\n",
    "import matplotlib.pyplot as plt\n",
    "from data_preprocessor import DataPreprocessor\n",
    "from tools import *"
   ],
   "id": "34bf5faa28f2e55f",
   "outputs": [],
   "execution_count": 1
  },
  {
   "metadata": {},
   "cell_type": "markdown",
   "source": "## I. Data Import",
   "id": "21f8ead102c7e027"
  },
  {
   "metadata": {
    "ExecuteTime": {
     "end_time": "2025-01-09T12:12:46.349263Z",
     "start_time": "2025-01-09T12:11:48.541479Z"
    }
   },
   "cell_type": "code",
   "source": [
    "# Import and process the data\n",
    "dpp = DataPreprocessor('data')\n",
    "dict_data = dpp.process_csv_files()"
   ],
   "id": "76671d126433a46f",
   "outputs": [
    {
     "name": "stderr",
     "output_type": "stream",
     "text": [
      "Processing CSV files: 100%|██████████| 9/9 [00:57<00:00,  6.42s/it]\n"
     ]
    }
   ],
   "execution_count": 2
  },
  {
   "metadata": {
    "ExecuteTime": {
     "end_time": "2025-01-09T12:12:46.400595Z",
     "start_time": "2025-01-09T12:12:46.395303Z"
    }
   },
   "cell_type": "code",
   "source": [
    "index_names = list(dict_data.keys())\n",
    "stock_names = {index: list(dict_data[index]['stocks'].keys()) for index in index_names}"
   ],
   "id": "5499d0c3f7bb25c",
   "outputs": [],
   "execution_count": 3
  },
  {
   "metadata": {
    "jupyter": {
     "is_executing": true
    },
    "ExecuteTime": {
     "start_time": "2025-01-09T12:12:57.526093Z"
    }
   },
   "cell_type": "code",
   "source": [
    "#stock_names = {index: list(dict_data[index]['stocks'].columns) for index in index_names}\n",
    "\n",
    "#a = dict_data[index_names[-2]]['stocks']\n",
    "rtn = Return(dict_data[index_names[-2]])\n",
    "\n",
    "crtn = rtn.detrended_returns\n",
    "crtn"
   ],
   "id": "8976239a9b4af125",
   "outputs": [],
   "execution_count": null
  },
  {
   "metadata": {},
   "cell_type": "code",
   "outputs": [],
   "execution_count": null,
   "source": "",
   "id": "1fa77bd82bbc0370"
  }
 ],
 "metadata": {
  "kernelspec": {
   "name": "python3",
   "language": "python",
   "display_name": "Python 3 (ipykernel)"
  }
 },
 "nbformat": 5,
 "nbformat_minor": 9
}
