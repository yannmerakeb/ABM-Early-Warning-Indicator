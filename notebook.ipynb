{
 "cells": [
  {
   "metadata": {
    "ExecuteTime": {
     "end_time": "2025-01-13T16:50:23.500354Z",
     "start_time": "2025-01-13T16:50:20.883506Z"
    }
   },
   "cell_type": "code",
   "source": [
    "import pandas as pd\n",
    "import numpy as np\n",
    "import matplotlib.pyplot as plt\n",
    "from data_preprocessor import DataPreprocessor\n",
    "from tools import *"
   ],
   "id": "34bf5faa28f2e55f",
   "outputs": [],
   "execution_count": 1
  },
  {
   "metadata": {},
   "cell_type": "markdown",
   "source": "## I. Data Import",
   "id": "21f8ead102c7e027"
  },
  {
   "metadata": {
    "ExecuteTime": {
     "end_time": "2025-01-13T16:50:46.471974Z",
     "start_time": "2025-01-13T16:50:23.528456Z"
    }
   },
   "cell_type": "code",
   "source": [
    "# Import and process the data\n",
    "dpp = DataPreprocessor('data')\n",
    "dict_data = dpp.process_csv_files()"
   ],
   "id": "76671d126433a46f",
   "outputs": [
    {
     "name": "stderr",
     "output_type": "stream",
     "text": [
      "Processing CSV files: 100%|██████████| 9/9 [00:22<00:00,  2.54s/it]\n"
     ]
    }
   ],
   "execution_count": 2
  },
  {
   "metadata": {
    "ExecuteTime": {
     "end_time": "2025-01-13T16:50:51.318613Z",
     "start_time": "2025-01-13T16:50:51.312466Z"
    }
   },
   "cell_type": "code",
   "source": [
    "index_names = list(dict_data.keys())\n",
    "stock_names = {index: list(dict_data[index]['stocks'].keys()) for index in index_names}\n",
    "dates = {index: dict_data[index]['dates'] for index in index_names}"
   ],
   "id": "5499d0c3f7bb25c",
   "outputs": [],
   "execution_count": 4
  },
  {
   "metadata": {
    "ExecuteTime": {
     "end_time": "2025-01-13T17:19:03.320381Z",
     "start_time": "2025-01-13T17:19:01.902144Z"
    }
   },
   "cell_type": "code",
   "source": [
    "sp500_data = dict_data[index_names[0]]\n",
    "\n",
    "# Assuming you have sentiment_index data and have fitted the parameters using MLE\n",
    "'''sentiment_index_obj = SentimentIndex(sp500_data)\n",
    "sentiment_index = sentiment_index_obj.sentiment_index.iloc[:, 1].to_numpy()'''\n",
    "\n",
    "likelihood_model = Likelihood(sp500_data)\n",
    "# beta_params = likelihood_model.MLE('beta')\n",
    "normal_params = likelihood_model.MLE('normal', 0.95)\n",
    "\n",
    "# Compare distributions\n",
    "mc = MonteCarlo(sp500_data)\n",
    "'''mc.compare_distributions(sentiment_index, beta_params, 'beta')\n",
    "mc.compare_distributions(sentiment_index, normal_params, 'normal')\n",
    "mc.plot_theoretical_beta_distribution(beta_params[0], beta_params[1])'''\n",
    "\n",
    "# a = Likelihood(sp500_data).chi_square_test(distribution='beta', bins=10)(beta_params[0], beta_params[1])\n",
    "# a"
   ],
   "id": "589c69ff14b2467f",
   "outputs": [
    {
     "name": "stderr",
     "output_type": "stream",
     "text": [
      "/Users/merakeb/Desktop/M2 272/Gestion Quant/ABM-Early-Warning-Indicator/tools.py:316: OptimizeWarning: Unknown solver options: xtol\n",
      "  MLE = minimize(self.neg_normal_log_likelihood, params_init, args=(sentiment_index,),\n"
     ]
    },
    {
     "data": {
      "text/plain": [
       "\"mc.compare_distributions(sentiment_index, beta_params, 'beta')\\nmc.compare_distributions(sentiment_index, normal_params, 'normal')\\nmc.plot_theoretical_beta_distribution(beta_params[0], beta_params[1])\""
      ]
     },
     "execution_count": 6,
     "metadata": {},
     "output_type": "execute_result"
    }
   ],
   "execution_count": 6
  }
 ],
 "metadata": {
  "kernelspec": {
   "name": "python3",
   "language": "python",
   "display_name": "Python 3 (ipykernel)"
  }
 },
 "nbformat": 5,
 "nbformat_minor": 9
}
